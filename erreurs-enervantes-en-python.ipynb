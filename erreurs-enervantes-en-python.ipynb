{
 "cells": [
  {
   "cell_type": "code",
   "execution_count": null,
   "id": "5374e5ad-2ab6-4aab-b9af-b8ef08c5d5c3",
   "metadata": {},
   "outputs": [],
   "source": [
    "###################### Lost in translation\n",
    "\n",
    "pi = float(\"3,141592654\")"
   ]
  },
  {
   "cell_type": "code",
   "execution_count": null,
   "id": "1d71c254-6021-461a-8c43-c8261a3a0038",
   "metadata": {},
   "outputs": [],
   "source": [
    "###################### Celui qui n'a pas de nom\n",
    "\n",
    "if 1+2+3+4+5+6+7+8+9+10 == 50:\n",
    "    message = \"pfiouh ça en fait des calculs\"\n",
    "print(message)"
   ]
  },
  {
   "cell_type": "code",
   "execution_count": null,
   "id": "4527e028-a6ff-4946-9c11-432c0bb51c0d",
   "metadata": {},
   "outputs": [],
   "source": [
    "###################### Pas mon type\n",
    "\n",
    "nombres_pairs = (1, 2, 4, 6, 8)\n",
    "nombres_pairs[0] = 0"
   ]
  },
  {
   "cell_type": "code",
   "execution_count": null,
   "id": "7fd8dfe0-c1d6-4ee2-bd04-982d97532453",
   "metadata": {},
   "outputs": [],
   "source": [
    "###################### Tu flotteras aussi\n",
    "\n",
    "if 0.1 + 0.1 + 0.1 == 0.3:\n",
    "    print(\"natürlich\")\n",
    "else:\n",
    "    print(\"wtf?\")"
   ]
  },
  {
   "cell_type": "code",
   "execution_count": null,
   "id": "2dba8acb-a5c6-455e-bbff-29578cfc024b",
   "metadata": {},
   "outputs": [],
   "source": [
    "###################### Selle de cheval\n",
    "\n",
    "def suite_arithmetique(n, raison):\n",
    "    if n == 1:\n",
    "        return 0\n",
    "    return suite_arithmetique(n-1, raison) + raison\n",
    "\n",
    "print(suite_arithmetique(5000, 0.1))"
   ]
  },
  {
   "cell_type": "code",
   "execution_count": null,
   "id": "0d8978a5-78ff-4612-9301-9c3a8bf9d1ef",
   "metadata": {},
   "outputs": [],
   "source": [
    "###################### La typo infernale\n",
    "\n",
    "texte1 = (\n",
    "    \"Trois Anneaux pour les rois elfes sous le ciel,\\n\"\n",
    "    \"Sept pour les seigneurs nains dans leurs demeures de pierre,\\n\"\n",
    "    \"Neuf pour les hommes mortels destinés au trépas,\\n\"\n",
    "    \"Un pour le Seigneur des Ténèbres sur son sombre trône,\\n\"\n",
    "    \"Au pays de Mordor où s'étendent les ombres\\n\"\n",
    "    \"Un Anneau pour les gouverner tous\\n\"\n",
    "    \"Un Anneau pour les trouver\\n\"\n",
    "    \"Un Anneau pour les amener tous,\\n\"\n",
    "    \"Et dans les ténèbres les lier\\n\"\n",
    "    \"Au pays de Mordor où s'étendent les ombres.\"\n",
    ")\n",
    "if \"Anneau\" in texte1:\n",
    "    print(\"mon précieux !\")\n",
    "else:\n",
    "    print(\"où est mon précieux ?\")\n",
    "\n",
    "texte2 = (\n",
    "    \"Je ne connaîtrai pas la peur, car la peur tue l'esprit.\\n\"\n",
    "    \"La peur est la petite mort qui conduit à l'oblitération totale.\\n\"\n",
    "    \"J'affronterai ma peur. Je lui permettrai de passer sur moi,\\n\"\n",
    "    \"au travers de moi. Et lorsqu'elle sera passée, je tournerai\\n\"\n",
    "    \"mon œil intérieur sur son chemin. Et là où elle sera passée,\\n\"\n",
    "    \"il n'y aura plus rien. Rien que moi.\",\n",
    ")\n",
    "if \"peur\" in texte2:\n",
    "    print(\"fear\")\n",
    "else:\n",
    "    print(\"no fear\")"
   ]
  },
  {
   "cell_type": "code",
   "execution_count": null,
   "id": "2aed7e53-28c9-445a-a999-9b4fe0ab4671",
   "metadata": {},
   "outputs": [],
   "source": [
    "###################### Le nain a gagné un niveau\n",
    "\n",
    "caracteristiques = {\n",
    "    \"niveau\": 1,\n",
    "    \"points de vie\": 10\n",
    "}\n",
    "personnages = {\n",
    "    \"nain\": caracteristiques,\n",
    "    \"elfe\": caracteristiques\n",
    "}\n",
    "\n",
    "personnages[\"nain\"][\"niveau\"] += 1\n",
    "\n",
    "print(\"le nain est niveau\", personnages[\"nain\"][\"niveau\"])\n",
    "print(\"l'elfe est niveau\", personnages[\"elfe\"][\"niveau\"])"
   ]
  },
  {
   "cell_type": "code",
   "execution_count": null,
   "id": "df957d36-8f28-4ff2-8ab8-af5e217386d7",
   "metadata": {},
   "outputs": [],
   "source": [
    "###################### T'as pas la réf\n",
    "\n",
    "def dark_vador(x = []):\n",
    "    x.append(\"pom\")\n",
    "    print(x)\n",
    "\n",
    "dark_vador()\n",
    "dark_vador()\n",
    "dark_vador()\n",
    "dark_vador()\n",
    "dark_vador()\n",
    "dark_vador()\n",
    "dark_vador()"
   ]
  },
  {
   "cell_type": "code",
   "execution_count": null,
   "id": "66cde175-425e-4161-bbd0-39c6db3a39f7",
   "metadata": {},
   "outputs": [],
   "source": [
    "###################### Sables mouvants\n",
    "\n",
    "nombres = [0, 1, 0, 2, 0, 3, 0, 4, 0, 5]\n",
    "i = 0\n",
    "while i < len(nombres):\n",
    "    if i % 2 == 0:\n",
    "        nombres.pop(i)\n",
    "    i = i + 1\n",
    "print(nombres)"
   ]
  },
  {
   "cell_type": "code",
   "execution_count": null,
   "id": "cdfa997d-7bfc-4334-9836-145945e6722f",
   "metadata": {},
   "outputs": [],
   "source": [
    "###################### Au global tu t'en sors bien\n",
    "\n",
    "carambars = 1\n",
    "\n",
    "def encore_raté():\n",
    "    carambars = 2\n",
    "\n",
    "encore_raté()\n",
    "print(carambars)"
   ]
  }
 ],
 "metadata": {
  "kernelspec": {
   "display_name": "Python 3 (ipykernel)",
   "language": "python",
   "name": "python3"
  },
  "language_info": {
   "codemirror_mode": {
    "name": "ipython",
    "version": 3
   },
   "file_extension": ".py",
   "mimetype": "text/x-python",
   "name": "python",
   "nbconvert_exporter": "python",
   "pygments_lexer": "ipython3",
   "version": "3.10.12"
  }
 },
 "nbformat": 4,
 "nbformat_minor": 5
}
