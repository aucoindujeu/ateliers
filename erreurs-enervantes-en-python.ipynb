{
 "cells": [
  {
   "cell_type": "code",
   "execution_count": null,
   "id": "1d71c254-6021-461a-8c43-c8261a3a0038",
   "metadata": {},
   "outputs": [],
   "source": [
    "###################### BUG 1\n",
    "\n",
    "if 1+2+3+4+5+6+7+8+9+10 == 50:\n",
    "    message = \"pfiouh ça en fait des calculs\"\n",
    "print(message)"
   ]
  },
  {
   "cell_type": "code",
   "execution_count": null,
   "id": "0d8978a5-78ff-4612-9301-9c3a8bf9d1ef",
   "metadata": {},
   "outputs": [],
   "source": [
    "###################### BUG 2\n",
    "\n",
    "very_long_string1 = (\n",
    "    \"Trois Anneaux pour les rois elfes sous le ciel,\\n\"\n",
    "    \"Sept pour les seigneurs nains dans leurs demeures de pierre,\\n\"\n",
    "    \"Neuf pour les hommes mortels destinés au trépas,\\n\"\n",
    "    \"Un pour le Seigneur des Ténèbres sur son sombre trône,\\n\"\n",
    "    \"Au pays de Mordor où s'étendent les ombres\\n\"\n",
    "    \"Un Anneau pour les gouverner tous\\n\"\n",
    "    \"Un Anneau pour les trouver\\n\"\n",
    "    \"Un Anneau pour les amener tous,\\n\"\n",
    "    \"Et dans les ténèbres les lier\\n\"\n",
    "    \"Au pays de Mordor où s'étendent les ombres.\"\n",
    ")\n",
    "if \"Anneau\" in very_long_string1:\n",
    "    print(\"mon précieux !\")\n",
    "else:\n",
    "    print(\"où est mon précieux ?\")\n",
    "\n",
    "very_long_string2 = (\n",
    "    \"Je ne connaîtrai pas la peur, car la peur tue l'esprit.\\n\"\n",
    "    \"La peur est la petite mort qui conduit à l'oblitération totale.\\n\"\n",
    "    \"J'affronterai ma peur. Je lui permettrai de passer sur moi,\\n\"\n",
    "    \"au travers de moi. Et lorsqu'elle sera passée, je tournerai\\n\"\n",
    "    \"mon œil intérieur sur son chemin. Et là où elle sera passée,\\n\"\n",
    "    \"il n'y aura plus rien. Rien que moi.\",\n",
    ")\n",
    "if \"peur\" in very_long_string2:\n",
    "    print(\"fear\")\n",
    "else:\n",
    "    print(\"no fear\")"
   ]
  },
  {
   "cell_type": "code",
   "execution_count": null,
   "id": "df957d36-8f28-4ff2-8ab8-af5e217386d7",
   "metadata": {},
   "outputs": [],
   "source": [
    "###################### BUG 3\n",
    "\n",
    "def dark_vador(x = []):\n",
    "    x.append(\"pom\")\n",
    "    print(x)\n",
    "\n",
    "dark_vador()\n",
    "dark_vador()\n",
    "dark_vador()\n",
    "dark_vador()\n",
    "dark_vador()\n",
    "dark_vador()\n",
    "dark_vador()"
   ]
  },
  {
   "cell_type": "code",
   "execution_count": null,
   "id": "66cde175-425e-4161-bbd0-39c6db3a39f7",
   "metadata": {},
   "outputs": [],
   "source": [
    "###################### BUG 4\n",
    "\n",
    "nombres = [0, 1, 2, 3, 4, 5, 6, 7, 8, 9]\n",
    "i = 0\n",
    "while i < len(nombres):\n",
    "    if nombres[i] % 2 == 0:\n",
    "        nombres.remove(i)\n",
    "    i = i + 1\n",
    "print(nombres)"
   ]
  },
  {
   "cell_type": "code",
   "execution_count": null,
   "id": "2dba8acb-a5c6-455e-bbff-29578cfc024b",
   "metadata": {},
   "outputs": [],
   "source": [
    "###################### BUG 5\n",
    "\n",
    "def suite_arithmetique(n, raison):\n",
    "    if n == 1:\n",
    "        return 0\n",
    "    return suite_arithmetique(n-1, raison) + raison\n",
    "\n",
    "print(suite_arithmetique(5000, 0.1))"
   ]
  },
  {
   "cell_type": "code",
   "execution_count": 3,
   "id": "7fd8dfe0-c1d6-4ee2-bd04-982d97532453",
   "metadata": {},
   "outputs": [
    {
     "name": "stdout",
     "output_type": "stream",
     "text": [
      "je comprends plus rien\n"
     ]
    }
   ],
   "source": [
    "###################### BUG 6\n",
    "\n",
    "if 0.1 + 0.1 + 0.1 == 0.3:\n",
    "    print(\"je sais compter\")\n",
    "else:\n",
    "    print(\"je comprends plus rien\")"
   ]
  },
  {
   "cell_type": "code",
   "execution_count": 5,
   "id": "5374e5ad-2ab6-4aab-b9af-b8ef08c5d5c3",
   "metadata": {},
   "outputs": [
    {
     "ename": "ValueError",
     "evalue": "could not convert string to float: '3,141592654'",
     "output_type": "error",
     "traceback": [
      "\u001b[0;31m---------------------------------------------------------------------------\u001b[0m",
      "\u001b[0;31mValueError\u001b[0m                                Traceback (most recent call last)",
      "Cell \u001b[0;32mIn[5], line 3\u001b[0m\n\u001b[1;32m      1\u001b[0m \u001b[38;5;66;03m###################### BUG 7\u001b[39;00m\n\u001b[0;32m----> 3\u001b[0m pi \u001b[38;5;241m=\u001b[39m \u001b[38;5;28;43mfloat\u001b[39;49m\u001b[43m(\u001b[49m\u001b[38;5;124;43m\"\u001b[39;49m\u001b[38;5;124;43m3,141592654\u001b[39;49m\u001b[38;5;124;43m\"\u001b[39;49m\u001b[43m)\u001b[49m\n",
      "\u001b[0;31mValueError\u001b[0m: could not convert string to float: '3,141592654'"
     ]
    }
   ],
   "source": [
    "###################### BUG 7\n",
    "\n",
    "pi = float(\"3,141592654\")"
   ]
  },
  {
   "cell_type": "code",
   "execution_count": 7,
   "id": "4527e028-a6ff-4946-9c11-432c0bb51c0d",
   "metadata": {},
   "outputs": [
    {
     "ename": "TypeError",
     "evalue": "'tuple' object does not support item assignment",
     "output_type": "error",
     "traceback": [
      "\u001b[0;31m---------------------------------------------------------------------------\u001b[0m",
      "\u001b[0;31mTypeError\u001b[0m                                 Traceback (most recent call last)",
      "Cell \u001b[0;32mIn[7], line 4\u001b[0m\n\u001b[1;32m      1\u001b[0m \u001b[38;5;66;03m###################### BUG 8\u001b[39;00m\n\u001b[1;32m      3\u001b[0m nombres_pairs \u001b[38;5;241m=\u001b[39m (\u001b[38;5;241m1\u001b[39m, \u001b[38;5;241m2\u001b[39m, \u001b[38;5;241m4\u001b[39m, \u001b[38;5;241m6\u001b[39m, \u001b[38;5;241m8\u001b[39m)\n\u001b[0;32m----> 4\u001b[0m \u001b[43mnombres_pairs\u001b[49m\u001b[43m[\u001b[49m\u001b[38;5;241;43m0\u001b[39;49m\u001b[43m]\u001b[49m \u001b[38;5;241m=\u001b[39m \u001b[38;5;241m0\u001b[39m\n",
      "\u001b[0;31mTypeError\u001b[0m: 'tuple' object does not support item assignment"
     ]
    }
   ],
   "source": [
    "###################### BUG 8\n",
    "\n",
    "nombres_pairs = (1, 2, 4, 6, 8)\n",
    "nombres_pairs[0] = 0"
   ]
  },
  {
   "cell_type": "code",
   "execution_count": 18,
   "id": "2aed7e53-28c9-445a-a999-9b4fe0ab4671",
   "metadata": {},
   "outputs": [
    {
     "name": "stdout",
     "output_type": "stream",
     "text": [
      "buffy est niveau 2\n",
      "musclor est niveau 2\n"
     ]
    }
   ],
   "source": [
    "###################### BUG 9\n",
    "\n",
    "caracteristiques = {\n",
    "    \"niveau\": 1,\n",
    "    \"points de vie\": 10\n",
    "}\n",
    "personnages = {\n",
    "    \"buffy\": caracteristiques,\n",
    "    \"musclor\": caracteristiques\n",
    "}\n",
    "\n",
    "# vampire kill ===> niveau gagné\n",
    "personnages[\"buffy\"][\"niveau\"] = 2\n",
    "\n",
    "print(\"buffy est niveau\", personnages[\"buffy\"][\"niveau\"])\n",
    "print(\"musclor est niveau\", personnages[\"musclor\"][\"niveau\"])"
   ]
  }
 ],
 "metadata": {
  "kernelspec": {
   "display_name": "Python 3 (ipykernel)",
   "language": "python",
   "name": "python3"
  },
  "language_info": {
   "codemirror_mode": {
    "name": "ipython",
    "version": 3
   },
   "file_extension": ".py",
   "mimetype": "text/x-python",
   "name": "python",
   "nbconvert_exporter": "python",
   "pygments_lexer": "ipython3",
   "version": "3.10.12"
  }
 },
 "nbformat": 4,
 "nbformat_minor": 5
}
